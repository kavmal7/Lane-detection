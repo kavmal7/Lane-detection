{
 "cells": [
  {
   "cell_type": "markdown",
   "metadata": {},
   "source": [
    "### Here, we process 10 frames for the data (can uncomment to test):"
   ]
  },
  {
   "cell_type": "code",
   "execution_count": 1689,
   "metadata": {},
   "outputs": [],
   "source": [
    "# Import key libraries\n",
    "import torch\n",
    "import cv2\n",
    "import os\n",
    "import numpy as np\n",
    "import matplotlib.pyplot as plt\n",
    "from PIL import Image"
   ]
  },
  {
   "cell_type": "markdown",
   "metadata": {},
   "source": [
    "Get the video:"
   ]
  },
  {
   "cell_type": "code",
   "execution_count": 1690,
   "metadata": {},
   "outputs": [],
   "source": [
    "# vid_path = 'lane_data.mp4'\n",
    "# cap = cv2.VideoCapture(vid_path)"
   ]
  },
  {
   "cell_type": "code",
   "execution_count": 1691,
   "metadata": {},
   "outputs": [],
   "source": [
    "# frame_rate = 1\n",
    "# frame_count = 0\n",
    "\n",
    "# while cap.isOpened():\n",
    "#     ret, frame = cap.read()\n",
    "\n",
    "#     if not ret:\n",
    "#         break\n",
    "\n",
    "#     if frame_count % (30 // frame_rate) == 0:\n",
    "#         frame_path = f'./frames/frame_{frame_count}.jpg'\n",
    "#         cv2.imwrite(frame_path, frame)\n",
    "\n",
    "#     frame_count += 1\n",
    "\n",
    "# cap.release()"
   ]
  },
  {
   "cell_type": "markdown",
   "metadata": {},
   "source": [
    "Dimensions of image:"
   ]
  },
  {
   "cell_type": "code",
   "execution_count": 1692,
   "metadata": {},
   "outputs": [
    {
     "name": "stdout",
     "output_type": "stream",
     "text": [
      "Height = 720, width = 1280\n"
     ]
    }
   ],
   "source": [
    "images = []\n",
    "for i in range(10):\n",
    "    img = cv2.imread(f'./frames_subset/frame_{i*30}.jpg')\n",
    "    images.append(img)\n",
    "\n",
    "height, width, _ = images[0].shape\n",
    "print(f'Height = {height}, width = {width}')"
   ]
  },
  {
   "cell_type": "code",
   "execution_count": 1693,
   "metadata": {},
   "outputs": [],
   "source": [
    "# img1 = images[9]\n",
    "\n",
    "# def mouse_callback(event, x, y, flags, param):\n",
    "#     if event == cv2.EVENT_MOUSEMOVE:\n",
    "#         # Create a copy of the original image to display the coordinates\n",
    "#         img_with_coordinates = img1.copy()\n",
    "\n",
    "#         # Define the text to be shown (cursor coordinates)\n",
    "#         text = f\"X: {x}, Y: {y}\"\n",
    "\n",
    "#         # Put the text on the image\n",
    "#         cv2.putText(img_with_coordinates, text, (10, 30), cv2.FONT_HERSHEY_SIMPLEX, 1, (0, 255, 0), 2)\n",
    "\n",
    "#         # Display the image\n",
    "#         cv2.imshow('Image with Coordinates', img_with_coordinates)\n",
    "\n",
    "# cv2.namedWindow('Image with Coordinates')\n",
    "\n",
    "# cv2.setMouseCallback('Image with Coordinates', mouse_callback)"
   ]
  },
  {
   "cell_type": "markdown",
   "metadata": {},
   "source": [
    "Plotting points:"
   ]
  },
  {
   "cell_type": "code",
   "execution_count": 1694,
   "metadata": {},
   "outputs": [],
   "source": [
    "p1_1 = np.array([[457, 612], [478, 612], [345, 720], [310, 720]])\n",
    "p1_2 = np.array([[871, 632], [893, 632], [1015, 720], [980, 720]])\n",
    "p1_3 = np.array([[627, 493], [632, 495], [595, 517], [590, 516]])\n",
    "p1_4 = np.array([[710, 494], [720, 495], [743, 513], [734, 513]])\n",
    "p1_5 = np.array([[650, 480], [652, 480], [646, 485], [644, 485]])\n",
    "p1_6 = np.array([[700, 479], [703, 479], [706, 485], [703, 485]])\n",
    "\n",
    "points_1 = [p1_1, p1_2, p1_3, p1_4, p1_5, p1_6]\n",
    "# cv2.polylines(img1, np.int32([p1_1, p1_2, p1_3, p1_4, p1_5, p1_6]), isClosed=True, color=(0, 0, 255), thickness=1)\n",
    "\n",
    "# cv2.waitKey(0)\n",
    "# cv2.destroyAllWindows()"
   ]
  },
  {
   "cell_type": "code",
   "execution_count": 1695,
   "metadata": {},
   "outputs": [],
   "source": [
    "p2_1 = np.array([[591, 516], [597, 516], [453, 636], [432, 634]])\n",
    "p2_2 = np.array([[738, 516], [747, 516], [915, 631], [896, 631]])\n",
    "p2_3 = np.array([[631, 487], [636, 487], [625, 496], [619, 496]])\n",
    "p2_4 = np.array([[698, 486], [701, 486], [713, 495], [709, 495]])\n",
    "\n",
    "points_2 = [p2_1, p2_2, p2_3, p2_4]\n",
    "# cv2.polylines(img1, np.int32([p2_1, p2_2, p2_3, p2_4]), isClosed=True, color=(0, 0, 255), thickness=1)\n",
    "\n",
    "# cv2.waitKey(0)\n",
    "# cv2.destroyAllWindows()"
   ]
  },
  {
   "cell_type": "code",
   "execution_count": 1696,
   "metadata": {},
   "outputs": [],
   "source": [
    "p3_1 = np.array([[605, 501], [610, 501], [575, 530], [566, 530]])\n",
    "p3_2 = np.array([[707, 503], [716, 503], [753, 532], [742, 532]])\n",
    "p3_3 = np.array([[627, 486], [630, 486], [622, 492], [618, 492]])\n",
    "p3_4 = np.array([[683, 484], [687, 484], [700, 495], [694, 494]])\n",
    "\n",
    "points_3 = [p3_1, p3_2, p3_3, p3_4]\n",
    "# cv2.polylines(img1, np.int32([p3_1, p3_2, p3_3, p3_4]), isClosed=True, color=(0, 0, 255), thickness=1)\n",
    "\n",
    "# cv2.waitKey(0)\n",
    "# cv2.destroyAllWindows()"
   ]
  },
  {
   "cell_type": "code",
   "execution_count": 1697,
   "metadata": {},
   "outputs": [],
   "source": [
    "p4_1 = np.array([[483, 601], [499, 606], [368, 720], [340, 720]])\n",
    "p4_2 = np.array([[749, 533], [759, 533], [1023, 720], [995, 720]])\n",
    "p4_3 = np.array([[608, 500], [615, 500], [578, 534], [569, 531]])\n",
    "p4_4 = np.array([[692, 490], [698, 489], [717, 503], [709, 505]])\n",
    "\n",
    "points_4 = [p4_1, p4_2, p4_3, p4_4]\n",
    "# cv2.polylines(img1, np.int32([p4_1, p4_2, p4_3, p4_4]), isClosed=True, color=(0, 0, 255), thickness=1)\n",
    "\n",
    "# cv2.waitKey(0)\n",
    "# cv2.destroyAllWindows()"
   ]
  },
  {
   "cell_type": "code",
   "execution_count": 1698,
   "metadata": {},
   "outputs": [],
   "source": [
    "p5_1 = np.array([[523, 570], [537, 570], [383, 720], [350, 720]])\n",
    "p5_2 = np.array([[724, 515], [733, 515], [901, 625], [882, 628]])\n",
    "p5_3 = np.array([[611, 495], [616, 495], [592, 518], [581, 518]])\n",
    "p5_4 = np.array([[687, 488], [691, 488], [707, 498], [701, 498]])\n",
    "\n",
    "points_5 = [p5_1, p5_2, p5_3, p5_4]\n",
    "# cv2.polylines(img1, np.int32([p5_1, p5_2, p5_3, p5_4]), isClosed=True, color=(0, 0, 255), thickness=1)\n",
    "\n",
    "# cv2.waitKey(0)\n",
    "# cv2.destroyAllWindows()"
   ]
  },
  {
   "cell_type": "code",
   "execution_count": 1699,
   "metadata": {},
   "outputs": [],
   "source": [
    "p6_1 = np.array([[570, 520], [585, 520], [370, 720], [334, 720]])\n",
    "p6_2 = np.array([[710, 497], [722, 497], [765, 536], [751, 536]])\n",
    "p6_3 = np.array([[607, 488], [616, 489], [607, 504], [599, 504]])\n",
    "p6_4 = np.array([[686, 484], [693, 484], [702, 494], [696, 494]])\n",
    "\n",
    "points_6 = [p6_1, p6_2, p6_3, p6_4]\n",
    "# cv2.polylines(img1, np.int32([p6_1, p6_2, p6_3, p6_4]), isClosed=True, color=(0, 0, 255), thickness=1)\n",
    "\n",
    "# cv2.waitKey(0)\n",
    "# cv2.destroyAllWindows()"
   ]
  },
  {
   "cell_type": "code",
   "execution_count": 1700,
   "metadata": {},
   "outputs": [],
   "source": [
    "p7_1 = np.array([[569, 523], [578, 523], [463, 625], [440, 625]])\n",
    "p7_2 = np.array([[917, 644], [940, 644], [1050, 720], [1023, 720]])\n",
    "p7_3 = np.array([[695, 496], [703, 496], [739, 519], [729, 521]])\n",
    "p7_4 = np.array([[619, 486], [622, 486], [606, 501], [597, 500]])\n",
    "p7_5 = np.array([[679, 481], [681, 481], [692, 488], [687, 489]])\n",
    "\n",
    "points_7 = [p7_1, p7_2, p7_3, p7_4, p7_5]\n",
    "# cv2.polylines(img1, np.int32([p7_1, p7_2, p7_3, p7_4, p7_5]), isClosed=True, color=(0, 0, 255), thickness=1)\n",
    "\n",
    "# cv2.waitKey(0)\n",
    "# cv2.destroyAllWindows()"
   ]
  },
  {
   "cell_type": "code",
   "execution_count": 1701,
   "metadata": {},
   "outputs": [],
   "source": [
    "p8_1 = np.array([[765, 546], [780, 546], [1024, 720], [991, 720]])\n",
    "p8_2 = np.array([[593, 508], [600, 508], [542, 565], [528, 562]])\n",
    "p8_3 = np.array([[696, 493], [703, 493], [729, 519], [719, 519]])\n",
    "p8_4 = np.array([[612, 492], [617, 492], [610, 504], [601, 504]])\n",
    "p8_5 = np.array([[680, 481], [684, 481], [693, 488], [688, 488]])\n",
    "\n",
    "points_8 = [p8_1, p8_2, p8_3, p8_4, p8_5]\n",
    "# cv2.polylines(img1, np.int32([p8_1, p8_2, p8_3, p8_4, p8_5]), isClosed=True, color=(0, 0, 255), thickness=1)\n",
    "\n",
    "# cv2.waitKey(0)\n",
    "# cv2.destroyAllWindows()"
   ]
  },
  {
   "cell_type": "code",
   "execution_count": 1702,
   "metadata": {},
   "outputs": [],
   "source": [
    "p9_1 = np.array([[555, 539], [567, 539], [358, 720], [327, 720]])\n",
    "p9_2 = np.array([[752, 541], [770, 541], [1017, 720], [983, 720]])\n",
    "p9_3 = np.array([[611, 493], [616, 493], [600, 509], [592, 508]])\n",
    "p9_4 = np.array([[692, 493], [700, 493], [717, 508], [708, 509]])\n",
    "\n",
    "points_9 = [p9_1, p9_2, p9_3, p9_4]\n",
    "# cv2.polylines(img1, np.int32([p9_1, p9_2, p9_3, p9_4]), isClosed=True, color=(0, 0, 255), thickness=1)\n",
    "\n",
    "# cv2.waitKey(0)\n",
    "# cv2.destroyAllWindows()"
   ]
  },
  {
   "cell_type": "code",
   "execution_count": 1703,
   "metadata": {},
   "outputs": [],
   "source": [
    "p10_1 = np.array([[588, 505], [596, 505], [528, 561], [511, 561]])\n",
    "p10_2 = np.array([[709, 508], [719, 508], [793, 562], [777, 562]])\n",
    "p10_3 = np.array([[617, 484], [620, 484], [613, 491], [607, 491]])\n",
    "p10_4 = np.array([[679, 483], [682, 483], [695, 493], [689, 493]])\n",
    "p10_5 = np.array([[638, 462], [641, 462], [639, 472], [636, 472]])\n",
    "p10_6 = np.array([[659, 463], [662, 463], [669, 473], [666, 473]])\n",
    "\n",
    "points_10 = [p10_1, p10_2, p10_3, p10_4, p10_5, p10_6]\n",
    "cv2.polylines(img1, np.int32([p10_1, p10_2, p10_3, p10_4, p10_5, p10_6]), isClosed=True, color=(0, 0, 255), thickness=1)\n",
    "\n",
    "cv2.waitKey(0)\n",
    "cv2.destroyAllWindows()"
   ]
  },
  {
   "cell_type": "markdown",
   "metadata": {},
   "source": [
    "Making mask and saving:"
   ]
  },
  {
   "cell_type": "code",
   "execution_count": 1704,
   "metadata": {},
   "outputs": [],
   "source": [
    "mask1 = np.zeros((height, width), dtype=np.uint8)\n",
    "mask2 = np.zeros((height, width), dtype=np.uint8)\n",
    "mask3 = np.zeros((height, width), dtype=np.uint8)\n",
    "mask4 = np.zeros((height, width), dtype=np.uint8)\n",
    "mask5 = np.zeros((height, width), dtype=np.uint8)\n",
    "mask6 = np.zeros((height, width), dtype=np.uint8)\n",
    "mask7 = np.zeros((height, width), dtype=np.uint8)\n",
    "mask8 = np.zeros((height, width), dtype=np.uint8)\n",
    "mask9 = np.zeros((height, width), dtype=np.uint8)\n",
    "mask10 = np.zeros((height, width), dtype=np.uint8)\n",
    "\n",
    "cv2.fillPoly(mask1, points_1, (255, 255, 255))\n",
    "cv2.fillPoly(mask2, points_2, (255, 255, 255))\n",
    "cv2.fillPoly(mask3, points_3, (255, 255, 255))\n",
    "cv2.fillPoly(mask4, points_4, (255, 255, 255))\n",
    "cv2.fillPoly(mask5, points_5, (255, 255, 255))\n",
    "cv2.fillPoly(mask6, points_6, (255, 255, 255))\n",
    "cv2.fillPoly(mask7, points_7, (255, 255, 255))\n",
    "cv2.fillPoly(mask8, points_8, (255, 255, 255))\n",
    "cv2.fillPoly(mask9, points_9, (255, 255, 255))\n",
    "cv2.fillPoly(mask10, points_10, (255, 255, 255))\n",
    "\n",
    "masks = [mask1, mask2, mask3, mask4, mask5, mask6, mask7, mask8, mask9, mask10]"
   ]
  },
  {
   "cell_type": "code",
   "execution_count": 1705,
   "metadata": {},
   "outputs": [],
   "source": [
    "for i, m in enumerate(masks):\n",
    "    cv2.imwrite(f'./labels/label_{i*30}.jpg', m)"
   ]
  }
 ],
 "metadata": {
  "kernelspec": {
   "display_name": "Python 3",
   "language": "python",
   "name": "python3"
  },
  "language_info": {
   "codemirror_mode": {
    "name": "ipython",
    "version": 3
   },
   "file_extension": ".py",
   "mimetype": "text/x-python",
   "name": "python",
   "nbconvert_exporter": "python",
   "pygments_lexer": "ipython3",
   "version": "3.10.11"
  }
 },
 "nbformat": 4,
 "nbformat_minor": 2
}
