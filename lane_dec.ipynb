{
 "cells": [
  {
   "cell_type": "markdown",
   "metadata": {},
   "source": [
    "## Here, we make the lane detection model:"
   ]
  },
  {
   "cell_type": "code",
   "execution_count": 1,
   "metadata": {},
   "outputs": [],
   "source": [
    "import torch\n",
    "import torch.nn as nn\n",
    "import torch.nn.functional as F\n",
    "from torchvision import transforms\n",
    "from PIL import Image\n",
    "from torch.utils.data import Dataset, DataLoader\n",
    "import glob\n",
    "from torch.utils.data import random_split, Subset\n",
    "from sklearn.model_selection import KFold\n",
    "import statistics\n",
    "import cv2\n",
    "import numpy as np\n",
    "import matplotlib.pyplot as plt"
   ]
  },
  {
   "cell_type": "markdown",
   "metadata": {},
   "source": [
    "Import images:"
   ]
  },
  {
   "cell_type": "code",
   "execution_count": 2,
   "metadata": {},
   "outputs": [],
   "source": [
    "label_paths = sorted(glob.glob('./labels/*.jpg'))\n",
    "image_paths = sorted(glob.glob('./frames_subset/*.jpg'))"
   ]
  },
  {
   "cell_type": "markdown",
   "metadata": {},
   "source": [
    "Preprocess data:"
   ]
  },
  {
   "cell_type": "code",
   "execution_count": 3,
   "metadata": {},
   "outputs": [],
   "source": [
    "def binarise(label):\n",
    "    return (label > 0).float()"
   ]
  },
  {
   "cell_type": "code",
   "execution_count": 4,
   "metadata": {},
   "outputs": [],
   "source": [
    "class LaneDataset(Dataset):\n",
    "    def __init__(self, image_paths, mask_paths, transform=None):\n",
    "        self.image_paths = image_paths\n",
    "        self.mask_paths = mask_paths\n",
    "        self.transform = transform\n",
    "\n",
    "    def __len__(self):\n",
    "        return len(self.image_paths)\n",
    "\n",
    "    def __getitem__(self, idx):\n",
    "        image = Image.open(self.image_paths[idx])\n",
    "        mask = Image.open(self.mask_paths[idx]).convert('L')\n",
    "\n",
    "        if self.transform:\n",
    "            image = self.transform(image)\n",
    "            mask = self.transform(mask)\n",
    "\n",
    "        mask = binarise(mask)\n",
    "\n",
    "        return image, mask"
   ]
  },
  {
   "cell_type": "code",
   "execution_count": 5,
   "metadata": {},
   "outputs": [],
   "source": [
    "transform = transforms.Compose([\n",
    "    transforms.Resize((256, 256)),\n",
    "    transforms.Grayscale(num_output_channels=1),\n",
    "    transforms.ToTensor(),\n",
    "    transforms.Normalize((0.5,), (0.5,))\n",
    "])"
   ]
  },
  {
   "cell_type": "markdown",
   "metadata": {},
   "source": [
    "Split data:"
   ]
  },
  {
   "cell_type": "code",
   "execution_count": 6,
   "metadata": {},
   "outputs": [],
   "source": [
    "lane_data = LaneDataset(image_paths, label_paths, transform=transform)\n",
    "\n",
    "train_size = int(0.8 * len(lane_data))\n",
    "test_size = len(lane_data) - train_size\n",
    "\n",
    "lane_train, lane_test = random_split(lane_data, [train_size, test_size])"
   ]
  },
  {
   "cell_type": "code",
   "execution_count": 7,
   "metadata": {},
   "outputs": [],
   "source": [
    "dataloader_test = DataLoader(lane_test, batch_size=1, shuffle=False)"
   ]
  },
  {
   "cell_type": "markdown",
   "metadata": {},
   "source": [
    "Make CNN model:"
   ]
  },
  {
   "cell_type": "code",
   "execution_count": 8,
   "metadata": {},
   "outputs": [],
   "source": [
    "class CNN(nn.Module):\n",
    "    def __init__(self):\n",
    "        super(CNN, self).__init__()\n",
    "\n",
    "        self.conv1 = nn.Conv2d(1, 16, kernel_size=3, padding=1)\n",
    "        self.pool = nn.MaxPool2d(2, 2)\n",
    "        self.conv2 = nn.Conv2d(16, 32, kernel_size=3, padding=1)\n",
    "\n",
    "        self.upsample = nn.Upsample(scale_factor=2, mode='bilinear', align_corners=False)\n",
    "        self.conv3 = nn.Conv2d(32, 1, kernel_size=1)\n",
    "\n",
    "    def forward(self, x):\n",
    "        x = self.pool(F.relu(self.conv1(x)))\n",
    "        x = F.relu(self.conv2(x))\n",
    "        x = self.upsample(x)\n",
    "        x = F.relu(self.conv3(x))\n",
    "        x = torch.sigmoid(x)\n",
    "        return x"
   ]
  },
  {
   "cell_type": "markdown",
   "metadata": {},
   "source": [
    "Training loop:"
   ]
  },
  {
   "cell_type": "code",
   "execution_count": 9,
   "metadata": {},
   "outputs": [
    {
     "name": "stdout",
     "output_type": "stream",
     "text": [
      "Cross-validation accuracy: 0.9682025909423828\n"
     ]
    }
   ],
   "source": [
    "accs = []\n",
    "k_fold = KFold(n_splits=8, shuffle=True)\n",
    "\n",
    "for fold, (train_ids, val_ids) in enumerate(k_fold.split(range(train_size))):\n",
    "    \n",
    "    train_subset = Subset(lane_train, train_ids)\n",
    "    val_subset = Subset(lane_train, val_ids)\n",
    "\n",
    "    train_loader = DataLoader(train_subset, batch_size=1, shuffle=True)\n",
    "    val_loader = DataLoader(val_subset, batch_size=1, shuffle=False)\n",
    "\n",
    "    model = CNN()\n",
    "    criterion = nn.BCELoss()\n",
    "    opt = torch.optim.Adam(model.parameters(), lr=1e-4)\n",
    "\n",
    "    for epoch in range(10):\n",
    "        for i, (images, labels) in enumerate(train_loader):\n",
    "            outputs = model(images)\n",
    "\n",
    "            loss = criterion(outputs, labels)\n",
    "\n",
    "            opt.zero_grad()\n",
    "            loss.backward()\n",
    "            opt.step()\n",
    "\n",
    "    with torch.no_grad():\n",
    "        n_correct_px = 0\n",
    "        n_samples_px = 0\n",
    "        for i, (images, labels) in enumerate(val_loader):\n",
    "            outputs = model(images)\n",
    "        \n",
    "            preds = outputs > 0.5\n",
    "            n_correct_px += (preds == labels).sum().item()\n",
    "            n_samples_px += torch.numel(labels)\n",
    "        accs.append((n_correct_px/n_samples_px))\n",
    "\n",
    "avg_acc = statistics.mean(accs)\n",
    "print(f'Cross-validation accuracy: {avg_acc}')        "
   ]
  },
  {
   "cell_type": "markdown",
   "metadata": {},
   "source": [
    "Evaluation loop:"
   ]
  },
  {
   "cell_type": "code",
   "execution_count": 10,
   "metadata": {},
   "outputs": [
    {
     "name": "stdout",
     "output_type": "stream",
     "text": [
      "Pixel Accuracy: 0.9859619140625\n",
      "Mean IoU: 169.01373291015625\n"
     ]
    }
   ],
   "source": [
    "model.eval()\n",
    "\n",
    "with torch.no_grad():\n",
    "    pixel_correct = 0\n",
    "    pixel_total = 0\n",
    "    iou_sum = 0\n",
    "\n",
    "    for images, labels in dataloader_test:\n",
    "        outputs = model(images)\n",
    "        preds = outputs > 0.5\n",
    "\n",
    "        preds_bool = preds.bool()\n",
    "        labels_bool = labels.bool()\n",
    "\n",
    "        pixel_correct += (preds_bool == labels_bool).sum().item()\n",
    "        pixel_total += torch.numel(labels_bool)\n",
    "\n",
    "        # IoU for each batch\n",
    "        intersection = (preds_bool & labels_bool).float().sum((1, 2))\n",
    "        union = (preds_bool | labels_bool).float().sum((1, 2))\n",
    "        iou = (intersection + 1e-6) / (union + 1e-6)\n",
    "        iou_sum += iou.sum().item()\n",
    "\n",
    "\n",
    "pixel_acc = pixel_correct / pixel_total\n",
    "mean_iou = iou_sum / len(dataloader_test.dataset)\n",
    "\n",
    "print(f'Pixel Accuracy: {pixel_acc}')\n",
    "print(f'Mean IoU: {mean_iou}')"
   ]
  },
  {
   "cell_type": "markdown",
   "metadata": {},
   "source": [
    "Display results:"
   ]
  },
  {
   "cell_type": "code",
   "execution_count": 14,
   "metadata": {},
   "outputs": [
    {
     "data": {
      "image/png": "[encoded data removed]",
      "text/plain": [
       "<Figure size 640x480 with 1 Axes>"
      ]
     },
     "metadata": {},
     "output_type": "display_data"
    },
    {
     "data": {
      "image/png": "[encoded data removed]",
      "text/plain": [
       "<Figure size 640x480 with 1 Axes>"
      ]
     },
     "metadata": {},
     "output_type": "display_data"
    },
    {
     "data": {
      "image/png": "[encoded data removed]",
      "text/plain": [
       "<Figure size 640x480 with 1 Axes>"
      ]
     },
     "metadata": {},
     "output_type": "display_data"
    },
    {
     "data": {
      "image/png": "[encoded data removed]",
      "text/plain": [
       "<Figure size 640x480 with 1 Axes>"
      ]
     },
     "metadata": {},
     "output_type": "display_data"
    },
    {
     "data": {
      "image/png": "[encoded data removed]",
      "text/plain": [
       "<Figure size 640x480 with 1 Axes>"
      ]
     },
     "metadata": {},
     "output_type": "display_data"
    },
    {
     "data": {
      "image/png": "[encoded data removed]",
      "text/plain": [
       "<Figure size 640x480 with 1 Axes>"
      ]
     },
     "metadata": {},
     "output_type": "display_data"
    }
   ],
   "source": [
    "for i, (images, labels) in enumerate(train_loader):\n",
    "    if i > 5:\n",
    "        break\n",
    "    outputs = model(images)\n",
    "    plt.imshow(outputs.squeeze().cpu().detach().numpy()*255, cmap='gray')\n",
    "    plt.show()"
   ]
  },
  {
   "cell_type": "markdown",
   "metadata": {},
   "source": [
    "Use model on whole video:"
   ]
  },
  {
   "cell_type": "code",
   "execution_count": 12,
   "metadata": {},
   "outputs": [],
   "source": [
    "cap = cv2.VideoCapture('lane_data.mp4')\n",
    "frame_width = int(cap.get(cv2.CAP_PROP_FRAME_WIDTH))\n",
    "frame_height = int(cap.get(cv2.CAP_PROP_FRAME_HEIGHT))\n",
    "frame_size = (frame_width, frame_height)\n",
    "output_fps = cap.get(cv2.CAP_PROP_FPS)\n",
    "\n",
    "out = cv2.VideoWriter('lane_marked1.mp4', cv2.VideoWriter_fourcc(*'MP4V'), output_fps, frame_size)"
   ]
  },
  {
   "cell_type": "code",
   "execution_count": 13,
   "metadata": {},
   "outputs": [],
   "source": [
    "while cap.isOpened():\n",
    "    ret, frame = cap.read()\n",
    "    if not ret:\n",
    "        break\n",
    "\n",
    "    original_size = frame.shape[:3]\n",
    "    input_frame = cv2.cvtColor(frame, cv2.COLOR_BGR2GRAY)\n",
    "    input_frame_tf = transform(Image.fromarray(input_frame)).unsqueeze(0)\n",
    "\n",
    "    model.eval()\n",
    "    with torch.no_grad():\n",
    "        output = model(input_frame_tf)\n",
    "        mask = (output.squeeze()).numpy()\n",
    "        resized_mask = cv2.resize(mask, (original_size[1], original_size[0]))\n",
    "\n",
    "    scaled_mask = (resized_mask * 255).astype(np.uint8)\n",
    "\n",
    "    #colored_mask = np.zeros((720, 1280, 3), dtype=np.uint8)\n",
    "    colored_mask = cv2.cvtColor(scaled_mask, cv2.COLOR_GRAY2BGR)\n",
    "    colored_mask[resized_mask > 0.5] = [0, 0, 255]\n",
    "\n",
    "\n",
    "    overlayed_frame = cv2.addWeighted(frame, 1, colored_mask, 0.5, 0)\n",
    "    out.write(overlayed_frame)\n",
    "\n",
    "cap.release()\n",
    "out.release()"
   ]
  }
 ],
 "metadata": {
  "kernelspec": {
   "display_name": "Python 3",
   "language": "python",
   "name": "python3"
  },
  "language_info": {
   "codemirror_mode": {
    "name": "ipython",
    "version": 3
   },
   "file_extension": ".py",
   "mimetype": "text/x-python",
   "name": "python",
   "nbconvert_exporter": "python",
   "pygments_lexer": "ipython3",
   "version": "3.10.11"
  }
 },
 "nbformat": 4,
 "nbformat_minor": 2
}
